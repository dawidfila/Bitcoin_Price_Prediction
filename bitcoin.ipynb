{
 "cells": [
  {
   "cell_type": "code",
   "execution_count": null,
   "id": "7e90bb10-82e6-49d9-ae46-22a08b640081",
   "metadata": {},
   "outputs": [],
   "source": [
    "import yfinance as yf\n",
    "import numpy as np\n",
    "import pandas as pd\n",
    "import matplotlib.pyplot as plt\n",
    "from datetime import datetime\n",
    "\n",
    "end = datetime.now()\n",
    "start = datetime(end.year-10,end.month,end.day)\n",
    "\n",
    "exchange_pair = \"BTC-USD\"\n",
    "bitcoin_data = yf.download(exchange_pair, start, end)\n",
    "\n",
    "bitcoin_data.head(10)"
   ]
  },
  {
   "cell_type": "code",
   "execution_count": null,
   "id": "e3c19892-7094-4d0b-b208-466ee695e868",
   "metadata": {},
   "outputs": [],
   "source": [
    "bitcoin_data.describe()"
   ]
  },
  {
   "cell_type": "code",
   "execution_count": null,
   "id": "e5a617d5-667d-4a14-9d10-aa48dfc49685",
   "metadata": {},
   "outputs": [],
   "source": [
    "bitcoin_data.info()"
   ]
  },
  {
   "cell_type": "code",
   "execution_count": null,
   "id": "32f8ec78-4860-4ac7-bcc0-81be3e3b6477",
   "metadata": {},
   "outputs": [],
   "source": [
    "bitcoin_data.isna().sum()"
   ]
  },
  {
   "cell_type": "code",
   "execution_count": null,
   "id": "c44e1f60-267c-43e5-92e0-3e370543e9f2",
   "metadata": {},
   "outputs": [],
   "source": [
    "Closing_price = bitcoin_data[['Close']]\n",
    "Closing_price"
   ]
  },
  {
   "cell_type": "code",
   "execution_count": null,
   "id": "df7b5578-f0e4-49a3-80ff-294ff81db5ba",
   "metadata": {},
   "outputs": [],
   "source": [
    "plt.figure(figsize=(16,8))\n",
    "Closing_price['Close'].plot()\n",
    "plt.xlabel('Years')\n",
    "plt.ylabel('Close Price')\n",
    "plt.title('Close price of Bitcoin')"
   ]
  },
  {
   "cell_type": "code",
   "execution_count": null,
   "id": "1d5ad6b7-bc93-42f7-b38f-9e97462a6780",
   "metadata": {},
   "outputs": [],
   "source": [
    "for i in range(2014,2024):\n",
    "    print(list(Closing_price.index.year).count(i))"
   ]
  },
  {
   "cell_type": "code",
   "execution_count": null,
   "id": "3862501d-2816-4b08-bdd0-f08dc3f87482",
   "metadata": {},
   "outputs": [],
   "source": [
    "Closing_price['MA_for_365_days'] = Closing_price['Close'].rolling(365).mean()\n",
    "Closing_price['MA_for_365_days'].head()"
   ]
  },
  {
   "cell_type": "code",
   "execution_count": null,
   "id": "9198ceb2-3257-425b-afbc-006a85aa119d",
   "metadata": {},
   "outputs": [],
   "source": [
    "Closing_price['MA_for_365_days'][0:366].tail()"
   ]
  },
  {
   "cell_type": "code",
   "execution_count": null,
   "id": "38a27256-0275-4db9-80d5-1f106cc5d896",
   "metadata": {},
   "outputs": [],
   "source": [
    "plt.figure()\n",
    "Closing_price[['Close', 'MA_for_365_days']].plot(figsize=(16,8))\n",
    "plt.xlabel('Years')\n",
    "plt.ylabel('Close Price')\n",
    "plt.title('Close price of bitcoin')"
   ]
  },
  {
   "cell_type": "code",
   "execution_count": null,
   "id": "c65daa43-341a-452c-be80-efef3f14ec49",
   "metadata": {},
   "outputs": [],
   "source": [
    "Closing_price['MA_for_100_days'] = Closing_price['Close'].rolling(100).mean()\n",
    "Closing_price['MA_for_100_days'].head()\n",
    "plt.figure()\n",
    "Closing_price[['Close', 'MA_for_100_days']].plot(figsize=(16,8))\n",
    "plt.xlabel('Years')\n",
    "plt.ylabel('Close Price')\n",
    "plt.title('Close price of bitcoin')"
   ]
  },
  {
   "cell_type": "code",
   "execution_count": null,
   "id": "af633607-fe7f-4236-a14b-bf22642d0aa5",
   "metadata": {},
   "outputs": [],
   "source": [
    "Closing_price['MA_for_20_days'] = Closing_price['Close'].rolling(20).mean()\n",
    "Closing_price['MA_for_20_days'].head()\n",
    "plt.figure()\n",
    "Closing_price[['Close', 'MA_for_20_days']].plot(figsize=(16,8))\n",
    "plt.xlabel('Years')\n",
    "plt.ylabel('Close Price')\n",
    "plt.title('Close price of bitcoin')"
   ]
  },
  {
   "cell_type": "code",
   "execution_count": null,
   "id": "e0f5faa5-5181-43ef-91b2-e5b743b8c23a",
   "metadata": {},
   "outputs": [],
   "source": [
    "from sklearn.preprocessing import MinMaxScaler\n",
    "\n",
    "scaler = MinMaxScaler(feature_range=(0,1))\n",
    "scaled_data = scaler.fit_transform(Closing_price[['Close']].values)\n",
    "scaled_data"
   ]
  },
  {
   "cell_type": "code",
   "execution_count": null,
   "id": "084aa464-415d-4d35-bb02-c7d1745a5bb8",
   "metadata": {},
   "outputs": [],
   "source": [
    "scaled_data.shape"
   ]
  },
  {
   "cell_type": "code",
   "execution_count": null,
   "id": "90237b58-a7ae-4174-b38b-9e82932a9b79",
   "metadata": {},
   "outputs": [],
   "source": [
    "x_data = []\n",
    "y_data = []\n",
    "\n",
    "base_days = 100\n",
    "\n",
    "for i in range(base_days,len(scaled_data)):\n",
    "    x_data.append(scaled_data[i-base_days:i])\n",
    "    y_data.append(scaled_data[i])\n",
    "\n",
    "x_data, y_data = np.array(x_data), np.array(y_data)\n",
    "\n",
    "\n",
    "x_data[0], y_data[0]"
   ]
  },
  {
   "cell_type": "code",
   "execution_count": null,
   "id": "b9221682-7741-4064-a034-0592ddb864db",
   "metadata": {},
   "outputs": [],
   "source": [
    "len_train = int(len(x_data)*0.9)\n",
    "x_train = x_data[:len_train]\n",
    "y_train = y_data[:len_train]\n",
    "\n",
    "x_test = x_data[len_train:]\n",
    "y_test = y_data[len_train:]"
   ]
  },
  {
   "cell_type": "code",
   "execution_count": null,
   "id": "be0931e8-9d34-4693-996b-2175b2a08cd8",
   "metadata": {},
   "outputs": [],
   "source": [
    "print(x_train.shape)\n",
    "print(y_train.shape)\n",
    "print(x_test.shape)\n",
    "print(y_test.shape)"
   ]
  },
  {
   "cell_type": "code",
   "execution_count": null,
   "id": "617c7404-2fd6-4517-afc3-5bab45f1199c",
   "metadata": {},
   "outputs": [],
   "source": [
    "from keras.models import Sequential\n",
    "from keras.layers import Dense, LSTM\n",
    "\n",
    "model = Sequential()\n",
    "\n",
    "model.add(LSTM(128, return_sequences = True, input_shape = (x_train.shape[1],1)))\n",
    "\n",
    "model.add(LSTM(64, return_sequences = False))\n",
    "\n",
    "model.add(Dense(25))\n",
    "\n",
    "model.add(Dense(1))"
   ]
  },
  {
   "cell_type": "code",
   "execution_count": null,
   "id": "5014bd74-43a1-4779-91cb-b8982137ba06",
   "metadata": {},
   "outputs": [],
   "source": [
    "model.summary()"
   ]
  },
  {
   "cell_type": "code",
   "execution_count": null,
   "id": "ac3ed1ef-050e-4171-955d-ca4602dd3029",
   "metadata": {},
   "outputs": [],
   "source": [
    "model.compile(optimizer='adam', loss='mean_squared_error')"
   ]
  },
  {
   "cell_type": "code",
   "execution_count": null,
   "id": "ad3c9b09-21a8-46f1-9f19-8b3ecd01af2c",
   "metadata": {},
   "outputs": [],
   "source": [
    "model.fit(x_train, y_train, batch_size = 5, epochs=10)"
   ]
  },
  {
   "cell_type": "code",
   "execution_count": null,
   "id": "65a4d19e-c98a-4747-a739-2c6c0e5e393b",
   "metadata": {},
   "outputs": [],
   "source": [
    "predictions = model.predict(x_test)\n",
    "predictions"
   ]
  },
  {
   "cell_type": "code",
   "execution_count": null,
   "id": "186b6750-6726-468f-a257-138ec9f0851a",
   "metadata": {},
   "outputs": [],
   "source": [
    "inv_predictions = scaler.inverse_transform(predictions)\n",
    "inv_predictions"
   ]
  },
  {
   "cell_type": "code",
   "execution_count": null,
   "id": "ac797331-a63e-4ba0-8196-6111805e958a",
   "metadata": {},
   "outputs": [],
   "source": [
    "inv_y_test = scaler.inverse_transform(y_test)"
   ]
  },
  {
   "cell_type": "code",
   "execution_count": null,
   "id": "8fa7fdba-cff2-410b-9037-1dafc2c10b85",
   "metadata": {},
   "outputs": [],
   "source": [
    "inv_predictions[:5], inv_y_test[:5]"
   ]
  },
  {
   "cell_type": "code",
   "execution_count": null,
   "id": "49edfa47-91d8-486d-85fa-8653ff448cb2",
   "metadata": {},
   "outputs": [],
   "source": [
    "plotting_data = pd.DataFrame({\n",
    "  'original_test_data': inv_y_test.reshape(-1),\n",
    "'predictions': inv_predictions.reshape(-1),\n",
    "},\n",
    "index = Closing_price.index[len_train+100:]\n",
    ")\n",
    "\n",
    "plotting_data.head()"
   ]
  },
  {
   "cell_type": "code",
   "execution_count": null,
   "id": "702b7367-8961-45f7-a6dd-2af5a152b312",
   "metadata": {},
   "outputs": [],
   "source": [
    "plt.figure()\n",
    "plotting_data.plot(figsize=(15,6))\n",
    "plt.xlabel('Years')\n",
    "plt.ylabel('Close Price')\n",
    "plt.title('Close price of bitcoin')"
   ]
  },
  {
   "cell_type": "code",
   "execution_count": null,
   "id": "387c83ce-424f-4836-a3cb-172d1c0bc27c",
   "metadata": {},
   "outputs": [],
   "source": [
    "last_100 = Closing_price[['Close']].tail(100)\n",
    "last_100.tail()"
   ]
  },
  {
   "cell_type": "code",
   "execution_count": null,
   "id": "ebfc1f49-4223-425f-88e3-dec9967d4ceb",
   "metadata": {},
   "outputs": [],
   "source": [
    "last_100 = scaler.fit_transform(last_100['Close'].values.reshape(-1,1)).reshape(1,-1,1)\n",
    "last_100"
   ]
  },
  {
   "cell_type": "code",
   "execution_count": null,
   "id": "97ac2431-f7b4-45e8-91f5-4168873ed040",
   "metadata": {},
   "outputs": [],
   "source": [
    "last_100.shape"
   ]
  },
  {
   "cell_type": "code",
   "execution_count": null,
   "id": "68eee38f-4868-47f6-9630-1bff4a623776",
   "metadata": {},
   "outputs": [],
   "source": [
    "day101 = model.predict(last_100)\n",
    "day101"
   ]
  },
  {
   "cell_type": "code",
   "execution_count": null,
   "id": "0049633a-85a2-4901-a6de-c0805a78004f",
   "metadata": {},
   "outputs": [],
   "source": [
    "scaler.inverse_transform(day101)"
   ]
  },
  {
   "cell_type": "code",
   "execution_count": null,
   "id": "0bbce123-ba45-4fab-a540-046acdc87d5d",
   "metadata": {},
   "outputs": [],
   "source": [
    "def predict_future(no_of_days, prev_100):\n",
    "    future_predictions = []\n",
    "    \n",
    "    for i in range(no_of_days):\n",
    "        next_day = model.predict(prev_100).tolist()\n",
    "        prev_100_list = prev_100[0].tolist()\n",
    "        prev_100_list.append(next_day[0])\n",
    "        prev_100 = np.array([prev_100_list[1:]])\n",
    "        \n",
    "        future_predictions.append(scaler.inverse_transform(next_day))\n",
    "    \n",
    "    return future_predictions"
   ]
  },
  {
   "cell_type": "code",
   "execution_count": null,
   "id": "102296d3-6de3-4446-aaa7-e6726a79d3ab",
   "metadata": {},
   "outputs": [],
   "source": [
    "no_of_days = 10\n",
    "future_results = predict_future(no_of_days, last_100)\n",
    "print(future_results)"
   ]
  },
  {
   "cell_type": "code",
   "execution_count": null,
   "id": "bed09a47-4d3b-441f-817f-57871ba422ee",
   "metadata": {},
   "outputs": [],
   "source": [
    "future_results = np.array(future_results).reshape(-1,1)\n",
    "plt.figure()\n",
    "pd.DataFrame(future_results).plot(figsize=(15,5), marker='o')\n",
    "for i in range(len(future_results)):\n",
    "    plt.text(i,future_results[i],int(future_results[i][0]))\n",
    "plt.xlabel('Future days')\n",
    "plt.ylabel('Close price')\n",
    "plt.title(\"Future Close price of bitcoin\")"
   ]
  },
  {
   "cell_type": "code",
   "execution_count": null,
   "id": "0bd7fe63-8ea7-4d0f-ba13-ce670844f827",
   "metadata": {},
   "outputs": [],
   "source": [
    "model.save(\"bitcoin_model.keras\")"
   ]
  }
 ],
 "metadata": {
  "kernelspec": {
   "display_name": "Python 3 (ipykernel)",
   "language": "python",
   "name": "python3"
  },
  "language_info": {
   "codemirror_mode": {
    "name": "ipython",
    "version": 3
   },
   "file_extension": ".py",
   "mimetype": "text/x-python",
   "name": "python",
   "nbconvert_exporter": "python",
   "pygments_lexer": "ipython3",
   "version": "3.12.3"
  }
 },
 "nbformat": 4,
 "nbformat_minor": 5
}
